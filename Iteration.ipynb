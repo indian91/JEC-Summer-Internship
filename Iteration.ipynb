{
 "cells": [
  {
   "cell_type": "markdown",
   "metadata": {},
   "source": [
    "<h1 style='color:lightgreen'>Gud Afternoon</h1>"
   ]
  },
  {
   "cell_type": "markdown",
   "metadata": {},
   "source": [
    "<h1 style='color:lightred'>Any Dout ?</h1>"
   ]
  },
  {
   "cell_type": "code",
   "execution_count": 2,
   "metadata": {},
   "outputs": [],
   "source": [
    "#For Loop----->it is mostly use for iteration purpose"
   ]
  },
  {
   "cell_type": "code",
   "execution_count": 3,
   "metadata": {},
   "outputs": [
    {
     "name": "stdout",
     "output_type": "stream",
     "text": [
      "2 4 6 8 10 12 14 16 18 20\n"
     ]
    }
   ],
   "source": [
    "print(*range(2,21,2))"
   ]
  },
  {
   "cell_type": "code",
   "execution_count": 5,
   "metadata": {},
   "outputs": [
    {
     "name": "stdout",
     "output_type": "stream",
     "text": [
      "2\n",
      "4\n",
      "6\n",
      "8\n",
      "10\n",
      "12\n",
      "14\n",
      "16\n",
      "18\n",
      "20\n"
     ]
    }
   ],
   "source": [
    "for i in range(2,21,2):\n",
    "    print(i)"
   ]
  },
  {
   "cell_type": "code",
   "execution_count": 7,
   "metadata": {},
   "outputs": [
    {
     "name": "stdout",
     "output_type": "stream",
     "text": [
      "\n"
     ]
    }
   ],
   "source": [
    "print(*range(21,2,1))"
   ]
  },
  {
   "cell_type": "code",
   "execution_count": 8,
   "metadata": {},
   "outputs": [
    {
     "name": "stdout",
     "output_type": "stream",
     "text": [
      "21 20 19 18 17 16 15 14 13 12 11 10 9 8 7 6 5 4 3\n"
     ]
    }
   ],
   "source": [
    "print(*range(21,2,-1))"
   ]
  },
  {
   "cell_type": "code",
   "execution_count": 9,
   "metadata": {},
   "outputs": [],
   "source": [
    "#range(init,condn,i/d)"
   ]
  },
  {
   "cell_type": "code",
   "execution_count": 10,
   "metadata": {},
   "outputs": [
    {
     "name": "stdout",
     "output_type": "stream",
     "text": [
      "1\n",
      "2\n",
      "3\n",
      "4\n",
      "4\n",
      "6\n"
     ]
    }
   ],
   "source": [
    "l=[1,2,3,4,4,6]\n",
    "for i in l:\n",
    "    print(i)"
   ]
  },
  {
   "cell_type": "code",
   "execution_count": null,
   "metadata": {},
   "outputs": [],
   "source": []
  },
  {
   "cell_type": "code",
   "execution_count": 11,
   "metadata": {},
   "outputs": [
    {
     "name": "stdout",
     "output_type": "stream",
     "text": [
      "Enter a number12345\n"
     ]
    },
    {
     "ename": "TypeError",
     "evalue": "'int' object is not iterable",
     "output_type": "error",
     "traceback": [
      "\u001b[1;31m---------------------------------------------------------------------------\u001b[0m",
      "\u001b[1;31mTypeError\u001b[0m                                 Traceback (most recent call last)",
      "\u001b[1;32m<ipython-input-11-e29cf5946df9>\u001b[0m in \u001b[0;36m<module>\u001b[1;34m\u001b[0m\n\u001b[0;32m      1\u001b[0m \u001b[0mx\u001b[0m\u001b[1;33m=\u001b[0m\u001b[0mint\u001b[0m\u001b[1;33m(\u001b[0m\u001b[0minput\u001b[0m\u001b[1;33m(\u001b[0m\u001b[1;34m'Enter a number'\u001b[0m\u001b[1;33m)\u001b[0m\u001b[1;33m)\u001b[0m\u001b[1;33m\u001b[0m\u001b[1;33m\u001b[0m\u001b[0m\n\u001b[1;32m----> 2\u001b[1;33m \u001b[1;32mfor\u001b[0m \u001b[0mi\u001b[0m \u001b[1;32min\u001b[0m \u001b[0mx\u001b[0m\u001b[1;33m:\u001b[0m\u001b[1;33m\u001b[0m\u001b[1;33m\u001b[0m\u001b[0m\n\u001b[0m\u001b[0;32m      3\u001b[0m     \u001b[0mprint\u001b[0m\u001b[1;33m(\u001b[0m\u001b[1;34m'hello world'\u001b[0m\u001b[1;33m)\u001b[0m\u001b[1;33m\u001b[0m\u001b[1;33m\u001b[0m\u001b[0m\n",
      "\u001b[1;31mTypeError\u001b[0m: 'int' object is not iterable"
     ]
    }
   ],
   "source": [
    "x=int(input('Enter a number'))\n",
    "for i in x:\n",
    "    print('hello world')"
   ]
  },
  {
   "cell_type": "code",
   "execution_count": 12,
   "metadata": {},
   "outputs": [
    {
     "ename": "TypeError",
     "evalue": "'int' object is not iterable",
     "output_type": "error",
     "traceback": [
      "\u001b[1;31m---------------------------------------------------------------------------\u001b[0m",
      "\u001b[1;31mTypeError\u001b[0m                                 Traceback (most recent call last)",
      "\u001b[1;32m<ipython-input-12-4b2ac58d5468>\u001b[0m in \u001b[0;36m<module>\u001b[1;34m\u001b[0m\n\u001b[0;32m      2\u001b[0m \u001b[1;33m\u001b[0m\u001b[0m\n\u001b[0;32m      3\u001b[0m \u001b[0ml\u001b[0m\u001b[1;33m=\u001b[0m\u001b[1;33m[\u001b[0m\u001b[1;33m]\u001b[0m\u001b[1;33m\u001b[0m\u001b[1;33m\u001b[0m\u001b[0m\n\u001b[1;32m----> 4\u001b[1;33m \u001b[0ml\u001b[0m\u001b[1;33m.\u001b[0m\u001b[0mextend\u001b[0m\u001b[1;33m(\u001b[0m\u001b[0mx\u001b[0m\u001b[1;33m)\u001b[0m\u001b[1;33m\u001b[0m\u001b[1;33m\u001b[0m\u001b[0m\n\u001b[0m\u001b[0;32m      5\u001b[0m \u001b[0mprint\u001b[0m\u001b[1;33m(\u001b[0m\u001b[0ml\u001b[0m\u001b[1;33m)\u001b[0m\u001b[1;33m\u001b[0m\u001b[1;33m\u001b[0m\u001b[0m\n",
      "\u001b[1;31mTypeError\u001b[0m: 'int' object is not iterable"
     ]
    }
   ],
   "source": [
    "x=123232\n",
    "\n",
    "l=[]\n",
    "l.extend(x)\n",
    "print(l)"
   ]
  },
  {
   "cell_type": "code",
   "execution_count": 13,
   "metadata": {},
   "outputs": [
    {
     "ename": "TypeError",
     "evalue": "can only join an iterable",
     "output_type": "error",
     "traceback": [
      "\u001b[1;31m---------------------------------------------------------------------------\u001b[0m",
      "\u001b[1;31mTypeError\u001b[0m                                 Traceback (most recent call last)",
      "\u001b[1;32m<ipython-input-13-3fadab7c01bd>\u001b[0m in \u001b[0;36m<module>\u001b[1;34m\u001b[0m\n\u001b[0;32m      1\u001b[0m \u001b[0mx\u001b[0m\u001b[1;33m=\u001b[0m\u001b[1;36m1234\u001b[0m\u001b[1;33m\u001b[0m\u001b[1;33m\u001b[0m\u001b[0m\n\u001b[1;32m----> 2\u001b[1;33m \u001b[1;34m'*'\u001b[0m\u001b[1;33m.\u001b[0m\u001b[0mjoin\u001b[0m\u001b[1;33m(\u001b[0m\u001b[0mx\u001b[0m\u001b[1;33m)\u001b[0m\u001b[1;33m\u001b[0m\u001b[1;33m\u001b[0m\u001b[0m\n\u001b[0m",
      "\u001b[1;31mTypeError\u001b[0m: can only join an iterable"
     ]
    }
   ],
   "source": [
    "x=1234\n",
    "'*'.join(x)"
   ]
  },
  {
   "cell_type": "code",
   "execution_count": 14,
   "metadata": {},
   "outputs": [
    {
     "ename": "TypeError",
     "evalue": "'set' object is not subscriptable",
     "output_type": "error",
     "traceback": [
      "\u001b[1;31m---------------------------------------------------------------------------\u001b[0m",
      "\u001b[1;31mTypeError\u001b[0m                                 Traceback (most recent call last)",
      "\u001b[1;32m<ipython-input-14-9bca7c82cd0f>\u001b[0m in \u001b[0;36m<module>\u001b[1;34m\u001b[0m\n\u001b[0;32m      1\u001b[0m \u001b[0ms\u001b[0m\u001b[1;33m=\u001b[0m\u001b[1;33m{\u001b[0m\u001b[1;36m1\u001b[0m\u001b[1;33m,\u001b[0m\u001b[1;36m2\u001b[0m\u001b[1;33m,\u001b[0m\u001b[1;36m3\u001b[0m\u001b[1;33m,\u001b[0m\u001b[1;36m4\u001b[0m\u001b[1;33m,\u001b[0m\u001b[1;36m5\u001b[0m\u001b[1;33m}\u001b[0m\u001b[1;33m\u001b[0m\u001b[1;33m\u001b[0m\u001b[0m\n\u001b[0;32m      2\u001b[0m \u001b[1;32mfor\u001b[0m \u001b[0mi\u001b[0m \u001b[1;32min\u001b[0m \u001b[0mrange\u001b[0m\u001b[1;33m(\u001b[0m\u001b[0mlen\u001b[0m\u001b[1;33m(\u001b[0m\u001b[0ms\u001b[0m\u001b[1;33m)\u001b[0m\u001b[1;33m)\u001b[0m\u001b[1;33m:\u001b[0m\u001b[1;33m\u001b[0m\u001b[1;33m\u001b[0m\u001b[0m\n\u001b[1;32m----> 3\u001b[1;33m     \u001b[0mprint\u001b[0m\u001b[1;33m(\u001b[0m\u001b[0ms\u001b[0m\u001b[1;33m[\u001b[0m\u001b[0mi\u001b[0m\u001b[1;33m]\u001b[0m\u001b[1;33m)\u001b[0m\u001b[1;33m\u001b[0m\u001b[1;33m\u001b[0m\u001b[0m\n\u001b[0m",
      "\u001b[1;31mTypeError\u001b[0m: 'set' object is not subscriptable"
     ]
    }
   ],
   "source": [
    "s={1,2,3,4,5}\n",
    "for i in range(len(s)):\n",
    "    print(s[i])"
   ]
  },
  {
   "cell_type": "code",
   "execution_count": 15,
   "metadata": {},
   "outputs": [
    {
     "ename": "TypeError",
     "evalue": "'set' object is not subscriptable",
     "output_type": "error",
     "traceback": [
      "\u001b[1;31m---------------------------------------------------------------------------\u001b[0m",
      "\u001b[1;31mTypeError\u001b[0m                                 Traceback (most recent call last)",
      "\u001b[1;32m<ipython-input-15-c9c96910e542>\u001b[0m in \u001b[0;36m<module>\u001b[1;34m\u001b[0m\n\u001b[1;32m----> 1\u001b[1;33m \u001b[0ms\u001b[0m\u001b[1;33m[\u001b[0m\u001b[1;36m0\u001b[0m\u001b[1;33m]\u001b[0m\u001b[1;33m\u001b[0m\u001b[1;33m\u001b[0m\u001b[0m\n\u001b[0m",
      "\u001b[1;31mTypeError\u001b[0m: 'set' object is not subscriptable"
     ]
    }
   ],
   "source": [
    "s[0]"
   ]
  },
  {
   "cell_type": "code",
   "execution_count": 16,
   "metadata": {},
   "outputs": [
    {
     "ename": "TypeError",
     "evalue": "'set' object is not subscriptable",
     "output_type": "error",
     "traceback": [
      "\u001b[1;31m---------------------------------------------------------------------------\u001b[0m",
      "\u001b[1;31mTypeError\u001b[0m                                 Traceback (most recent call last)",
      "\u001b[1;32m<ipython-input-16-f8bb2b116405>\u001b[0m in \u001b[0;36m<module>\u001b[1;34m\u001b[0m\n\u001b[1;32m----> 1\u001b[1;33m \u001b[0ms\u001b[0m\u001b[1;33m[\u001b[0m\u001b[1;36m1\u001b[0m\u001b[1;33m]\u001b[0m\u001b[1;33m\u001b[0m\u001b[1;33m\u001b[0m\u001b[0m\n\u001b[0m",
      "\u001b[1;31mTypeError\u001b[0m: 'set' object is not subscriptable"
     ]
    }
   ],
   "source": [
    "s[1]"
   ]
  },
  {
   "cell_type": "code",
   "execution_count": 17,
   "metadata": {},
   "outputs": [
    {
     "ename": "KeyError",
     "evalue": "0",
     "output_type": "error",
     "traceback": [
      "\u001b[1;31m---------------------------------------------------------------------------\u001b[0m",
      "\u001b[1;31mKeyError\u001b[0m                                  Traceback (most recent call last)",
      "\u001b[1;32m<ipython-input-17-8c4ffe881bc5>\u001b[0m in \u001b[0;36m<module>\u001b[1;34m\u001b[0m\n\u001b[0;32m      1\u001b[0m \u001b[0md\u001b[0m\u001b[1;33m=\u001b[0m\u001b[1;33m{\u001b[0m\u001b[1;34m'Name'\u001b[0m\u001b[1;33m:\u001b[0m\u001b[1;34m'Samyak'\u001b[0m\u001b[1;33m,\u001b[0m\u001b[1;34m'Course'\u001b[0m\u001b[1;33m:\u001b[0m\u001b[1;34m'DS'\u001b[0m\u001b[1;33m}\u001b[0m\u001b[1;33m\u001b[0m\u001b[1;33m\u001b[0m\u001b[0m\n\u001b[0;32m      2\u001b[0m \u001b[1;32mfor\u001b[0m \u001b[0mi\u001b[0m \u001b[1;32min\u001b[0m \u001b[0mrange\u001b[0m\u001b[1;33m(\u001b[0m\u001b[0mlen\u001b[0m\u001b[1;33m(\u001b[0m\u001b[0md\u001b[0m\u001b[1;33m)\u001b[0m\u001b[1;33m)\u001b[0m\u001b[1;33m:\u001b[0m\u001b[1;33m\u001b[0m\u001b[1;33m\u001b[0m\u001b[0m\n\u001b[1;32m----> 3\u001b[1;33m     \u001b[0mprint\u001b[0m\u001b[1;33m(\u001b[0m\u001b[0md\u001b[0m\u001b[1;33m[\u001b[0m\u001b[0mi\u001b[0m\u001b[1;33m]\u001b[0m\u001b[1;33m)\u001b[0m\u001b[1;33m\u001b[0m\u001b[1;33m\u001b[0m\u001b[0m\n\u001b[0m",
      "\u001b[1;31mKeyError\u001b[0m: 0"
     ]
    }
   ],
   "source": [
    "d={'Name':'Samyak','Course':'DS'}\n",
    "for i in range(len(d)):\n",
    "    print(d[i])"
   ]
  },
  {
   "cell_type": "code",
   "execution_count": 19,
   "metadata": {},
   "outputs": [
    {
     "name": "stdout",
     "output_type": "stream",
     "text": [
      "2\t4\t6\t8\t10\t12\t14\t16\t18\t20\t22\t24\t26\t28\t30\t32\t34\t36\t38\t40\t42\t44\t46\t48\t50\t52\t54\t56\t58\t60\t62\t64\t66\t68\t70\t72\t74\t76\t78\t80\t82\t84\t86\t88\t90\t92\t94\t96\t98\t"
     ]
    }
   ],
   "source": [
    "for i in range(1,100):\n",
    "    if i%2==0:\n",
    "        print(i,end='\\t')"
   ]
  },
  {
   "cell_type": "code",
   "execution_count": 20,
   "metadata": {},
   "outputs": [
    {
     "name": "stdout",
     "output_type": "stream",
     "text": [
      "Enter a number5\n",
      "5 x 1 = 5\n",
      "5 x 2 = 10\n",
      "5 x 3 = 15\n",
      "5 x 4 = 20\n",
      "5 x 5 = 25\n",
      "5 x 6 = 30\n",
      "5 x 7 = 35\n",
      "5 x 8 = 40\n",
      "5 x 9 = 45\n"
     ]
    }
   ],
   "source": [
    "num=int(input('Enter a number'))\n",
    "for i in range(1,10):\n",
    "    print(f'{num} x {i} = {num*i}')"
   ]
  },
  {
   "cell_type": "code",
   "execution_count": 22,
   "metadata": {},
   "outputs": [
    {
     "name": "stdout",
     "output_type": "stream",
     "text": [
      "Enter a number5\n",
      "    5 x 1 =     5\n",
      "    5 x 2 =    10\n",
      "    5 x 3 =    15\n",
      "    5 x 4 =    20\n",
      "    5 x 5 =    25\n",
      "    5 x 6 =    30\n",
      "    5 x 7 =    35\n",
      "    5 x 8 =    40\n",
      "    5 x 9 =    45\n"
     ]
    }
   ],
   "source": [
    "num=int(input('Enter a number'))\n",
    "for i in range(1,10):\n",
    "    print(f'{num :>5} x {i} = {num*i:>5}')"
   ]
  },
  {
   "cell_type": "code",
   "execution_count": 24,
   "metadata": {},
   "outputs": [
    {
     "name": "stdout",
     "output_type": "stream",
     "text": [
      "Enter a number10\n",
      "   10 x 1 =    10\n",
      "   10 x 2 =    20\n",
      "   10 x 3 =    30\n",
      "   10 x 4 =    40\n",
      "   10 x 5 =    50\n",
      "   10 x 6 =    60\n",
      "   10 x 7 =    70\n",
      "   10 x 8 =    80\n",
      "   10 x 9 =    90\n",
      "   10 x 10 =   100\n"
     ]
    }
   ],
   "source": [
    "num=int(input('Enter a number'))\n",
    "for i in range(1,11):\n",
    "    print(f'{num :>5} x {i} = {num*i:>5}')"
   ]
  },
  {
   "cell_type": "code",
   "execution_count": 25,
   "metadata": {},
   "outputs": [
    {
     "name": "stdout",
     "output_type": "stream",
     "text": [
      "Enter a number78\n",
      "2\t3\t6\t13\t26\t39\t"
     ]
    }
   ],
   "source": [
    "num=int(input('Enter a number'))\n",
    "for i in range(2,num//2+1):\n",
    "    if num%i==0:\n",
    "        print(i,end='\\t')"
   ]
  },
  {
   "cell_type": "code",
   "execution_count": 27,
   "metadata": {},
   "outputs": [
    {
     "name": "stdout",
     "output_type": "stream",
     "text": [
      "\n",
      "Enter a number5\n",
      "\n",
      "Enter a number25\n",
      "5\t\n",
      "Enter a number120\n",
      "2\t3\t4\t5\t6\t8\t10\t12\t15\t20\t24\t30\t40\t60\t\n",
      "Enter a number125\n",
      "5\t25\t\n",
      "Enter a number1024\n",
      "2\t4\t8\t16\t32\t64\t128\t256\t512\t"
     ]
    }
   ],
   "source": [
    "for i in range(5):\n",
    "    num=int(input('\\nEnter a number'))\n",
    "    for i in range(2,num//2+1):\n",
    "        if num%i==0:\n",
    "            print(i,end='\\t')"
   ]
  },
  {
   "cell_type": "code",
   "execution_count": 28,
   "metadata": {},
   "outputs": [],
   "source": [
    "#Greatest Common divisor between two numbers(15,45)"
   ]
  },
  {
   "cell_type": "code",
   "execution_count": 43,
   "metadata": {},
   "outputs": [
    {
     "name": "stdout",
     "output_type": "stream",
     "text": [
      "12\n",
      "56\n",
      "4\n",
      "45\n",
      "78\n",
      "3\n",
      "23\n",
      "78\n",
      "No Common Divisor\n",
      "29\n",
      "99\n",
      "No Common Divisor\n",
      "99\n",
      "198\n",
      "99\n"
     ]
    }
   ],
   "source": [
    "for i in range(5):\n",
    "    x,y=int(input()),int(input())\n",
    "    l=[]\n",
    "    if x<y:\n",
    "        for i in range(2,x+1):\n",
    "            if x%i==0 and y%i==0:\n",
    "                l.append(i)\n",
    "            else:\n",
    "                continue\n",
    "    else:\n",
    "        for i in range(2,y+1):\n",
    "            if x%i==0 and y%i==0:\n",
    "                l.append(i)\n",
    "            else:\n",
    "                continue\n",
    "    if len(l)>=1:\n",
    "        print(l[-1])\n",
    "    else:\n",
    "        print('No Common Divisor')"
   ]
  },
  {
   "cell_type": "code",
   "execution_count": 45,
   "metadata": {},
   "outputs": [
    {
     "name": "stdout",
     "output_type": "stream",
     "text": [
      "35\t70\t"
     ]
    }
   ],
   "source": [
    "for i in range(1,100):\n",
    "    if i%5==0 and i%7==0:\n",
    "        print(i,end='\\t')"
   ]
  },
  {
   "cell_type": "code",
   "execution_count": 46,
   "metadata": {},
   "outputs": [
    {
     "name": "stdout",
     "output_type": "stream",
     "text": [
      "5\t7\t10\t14\t15\t20\t21\t25\t28\t30\t35\t40\t42\t45\t49\t50\t55\t56\t60\t63\t65\t70\t75\t77\t80\t84\t85\t90\t91\t95\t98\t"
     ]
    }
   ],
   "source": [
    "for i in range(1,100):\n",
    "    if i%5==0 or i%7==0:\n",
    "        print(i,end='\\t')"
   ]
  },
  {
   "cell_type": "code",
   "execution_count": 52,
   "metadata": {},
   "outputs": [
    {
     "name": "stdout",
     "output_type": "stream",
     "text": [
      "Enter a number121\n",
      "Not Prime\n",
      "Enter a number127\n",
      "Prime\n",
      "Enter a number23\n",
      "Prime\n",
      "Enter a number29\n",
      "Prime\n",
      "Enter a number106\n",
      "Not Prime\n"
     ]
    }
   ],
   "source": [
    "for i in range(5):\n",
    "    num=int(input(('Enter a number')))\n",
    "    if num<2:\n",
    "        print('Invaild Number')\n",
    "    elif num==2:\n",
    "        print('Prime')\n",
    "    else:\n",
    "        for i in range(2,num//2+1):\n",
    "            if num%i==0:\n",
    "                print('Not Prime')\n",
    "                break\n",
    "        else:\n",
    "            print('Prime')"
   ]
  },
  {
   "cell_type": "code",
   "execution_count": 55,
   "metadata": {},
   "outputs": [],
   "source": [
    "l=[]\n",
    "for num in range(100,1000):\n",
    "    if num<2:\n",
    "        print('Invaild Number')\n",
    "    elif num==2:\n",
    "        print('Prime')\n",
    "    else:\n",
    "        for i in range(2,num//2+1):\n",
    "            if num%i==0:\n",
    "                break\n",
    "        else:\n",
    "            l.append(num)"
   ]
  },
  {
   "cell_type": "code",
   "execution_count": 56,
   "metadata": {},
   "outputs": [
    {
     "data": {
      "text/plain": [
       "143"
      ]
     },
     "execution_count": 56,
     "metadata": {},
     "output_type": "execute_result"
    }
   ],
   "source": [
    "len(l)"
   ]
  },
  {
   "cell_type": "code",
   "execution_count": 57,
   "metadata": {},
   "outputs": [
    {
     "name": "stdout",
     "output_type": "stream",
     "text": [
      "101\t103\t107\t109\t113\t127\t131\t137\t139\t149\t151\t157\t163\t167\t173\t179\t181\t191\t193\t197\t199\t211\t223\t227\t229\t233\t239\t241\t251\t257\t263\t269\t271\t277\t281\t283\t293\t307\t311\t313\t317\t331\t337\t347\t349\t353\t359\t367\t373\t379\t383\t389\t397\t401\t409\t419\t421\t431\t433\t439\t443\t449\t457\t461\t463\t467\t479\t487\t491\t499\t503\t509\t521\t523\t541\t547\t557\t563\t569\t571\t577\t587\t593\t599\t601\t607\t613\t617\t619\t631\t641\t643\t647\t653\t659\t661\t673\t677\t683\t691\t701\t709\t719\t727\t733\t739\t743\t751\t757\t761\t769\t773\t787\t797\t809\t811\t821\t823\t827\t829\t839\t853\t857\t859\t863\t877\t881\t883\t887\t907\t911\t919\t929\t937\t941\t947\t953\t967\t971\t977\t983\t991\t997\n"
     ]
    }
   ],
   "source": [
    "print(*l,sep='\\t')"
   ]
  },
  {
   "cell_type": "code",
   "execution_count": 58,
   "metadata": {},
   "outputs": [],
   "source": [
    "#pallindrome----->reverse is equals to number itself"
   ]
  },
  {
   "cell_type": "code",
   "execution_count": 59,
   "metadata": {},
   "outputs": [],
   "source": [
    "#1221"
   ]
  },
  {
   "cell_type": "code",
   "execution_count": 61,
   "metadata": {},
   "outputs": [
    {
     "name": "stdout",
     "output_type": "stream",
     "text": [
      "Enter a number12221\n",
      "Pallindrome\n",
      "Enter a number12345\n",
      "Not Palindrome\n",
      "Enter a number1234554321\n",
      "Pallindrome\n",
      "Enter a number234567899876543\n",
      "Not Palindrome\n",
      "Enter a numberhellolleh\n",
      "Pallindrome\n"
     ]
    }
   ],
   "source": [
    "for i in range(5):\n",
    "    x=input('Enter a number')\n",
    "\n",
    "    if x==x[::-1]:\n",
    "        print('Pallindrome')\n",
    "    else:\n",
    "        print('Not Palindrome')"
   ]
  },
  {
   "cell_type": "code",
   "execution_count": 62,
   "metadata": {},
   "outputs": [],
   "source": [
    "#Armstrong Number-------> 153----->len(str(153))\n",
    "#153=====>1**len(str(153))+5**(len(str(153)))+3**(len(str(153)))"
   ]
  },
  {
   "cell_type": "code",
   "execution_count": 63,
   "metadata": {},
   "outputs": [
    {
     "data": {
      "text/plain": [
       "True"
      ]
     },
     "execution_count": 63,
     "metadata": {},
     "output_type": "execute_result"
    }
   ],
   "source": [
    "153==1**3+5**3+3**3"
   ]
  },
  {
   "cell_type": "code",
   "execution_count": 65,
   "metadata": {},
   "outputs": [
    {
     "name": "stdout",
     "output_type": "stream",
     "text": [
      "Enter a number12321\n",
      "Pallindrome\n",
      "Enter a number1221\n",
      "Pallindrome\n",
      "Enter a number123454321\n",
      "Pallindrome\n",
      "Enter a number34567\n",
      "Not Pallindrome\n",
      "Enter a number76543\n",
      "Not Pallindrome\n"
     ]
    }
   ],
   "source": [
    "for i in range(5):\n",
    "    x=int(input('Enter a number'))#12321\n",
    "    temp=x\n",
    "    r=0\n",
    "    while  x!=0:\n",
    "        m=x%10#m-->1--->2---->3---->2--->1\n",
    "        r=r*10+m#r-->1--->12--->123--->1232---->12321\n",
    "        x=x//10#n-->1232--->123---->12--->1---->0\n",
    "    if temp==r:\n",
    "        print('Pallindrome')\n",
    "    else:\n",
    "        print('Not Pallindrome')"
   ]
  },
  {
   "cell_type": "code",
   "execution_count": 66,
   "metadata": {},
   "outputs": [
    {
     "name": "stdout",
     "output_type": "stream",
     "text": [
      "101\t111\t121\t131\t141\t151\t161\t171\t181\t191\t202\t212\t222\t232\t242\t252\t262\t272\t282\t292\t303\t313\t323\t333\t343\t353\t363\t373\t383\t393\t404\t414\t424\t434\t444\t454\t464\t474\t484\t494\t505\t515\t525\t535\t545\t555\t565\t575\t585\t595\t606\t616\t626\t636\t646\t656\t666\t676\t686\t696\t707\t717\t727\t737\t747\t757\t767\t777\t787\t797\t808\t818\t828\t838\t848\t858\t868\t878\t888\t898\t909\t919\t929\t939\t949\t959\t969\t979\t989\t999\t"
     ]
    }
   ],
   "source": [
    "for x in range(100,1000):\n",
    "    temp=x\n",
    "    r=0\n",
    "    while  x!=0:\n",
    "        m=x%10#m-->1--->2---->3---->2--->1\n",
    "        r=r*10+m#r-->1--->12--->123--->1232---->12321\n",
    "        x=x//10#n-->1232--->123---->12--->1---->0\n",
    "    if temp==r:\n",
    "        print(temp,end='\\t')"
   ]
  },
  {
   "cell_type": "code",
   "execution_count": 69,
   "metadata": {},
   "outputs": [
    {
     "name": "stdout",
     "output_type": "stream",
     "text": [
      "5\n",
      "120\n",
      "6\n",
      "720\n",
      "7\n",
      "5040\n",
      "8\n",
      "40320\n",
      "9\n",
      "362880\n"
     ]
    }
   ],
   "source": [
    "for i in range(5):\n",
    "    num=int(input())\n",
    "    sum=1\n",
    "    for i in range(num,1,-1):\n",
    "        sum=sum*i\n",
    "    print(sum)"
   ]
  },
  {
   "cell_type": "markdown",
   "metadata": {},
   "source": [
    "# "
   ]
  },
  {
   "cell_type": "code",
   "execution_count": 72,
   "metadata": {},
   "outputs": [
    {
     "name": "stdout",
     "output_type": "stream",
     "text": [
      "*\n",
      "**\n",
      "***\n",
      "****\n",
      "*****\n",
      "******\n",
      "*******\n",
      "********\n",
      "*********\n",
      "**********\n"
     ]
    }
   ],
   "source": [
    "print(\"*\"*1)\n",
    "print(\"*\"*2)\n",
    "print(\"*\"*3)\n",
    "print(\"*\"*4)\n",
    "print(\"*\"*5)\n",
    "print(\"*\"*6)\n",
    "print(\"*\"*7)\n",
    "print(\"*\"*8)\n",
    "print(\"*\"*9)\n",
    "print(\"*\"*10)"
   ]
  },
  {
   "cell_type": "code",
   "execution_count": 74,
   "metadata": {},
   "outputs": [
    {
     "name": "stdout",
     "output_type": "stream",
     "text": [
      "*\n",
      "**\n",
      "***\n",
      "****\n",
      "*****\n",
      "******\n",
      "*******\n",
      "********\n",
      "*********\n",
      "**********\n"
     ]
    }
   ],
   "source": [
    "for i in range(1,11):\n",
    "    print('*'*i)"
   ]
  },
  {
   "cell_type": "code",
   "execution_count": 75,
   "metadata": {},
   "outputs": [
    {
     "name": "stdout",
     "output_type": "stream",
     "text": [
      "**********\n",
      "*********\n",
      "********\n",
      "*******\n",
      "******\n",
      "*****\n",
      "****\n",
      "***\n",
      "**\n",
      "*\n"
     ]
    }
   ],
   "source": [
    "for i in range(1,11):\n",
    "    print('*'*(11-i))"
   ]
  },
  {
   "cell_type": "code",
   "execution_count": 76,
   "metadata": {},
   "outputs": [
    {
     "name": "stdout",
     "output_type": "stream",
     "text": [
      "           *\n",
      "          **\n",
      "         ***\n",
      "        ****\n",
      "       *****\n",
      "      ******\n",
      "     *******\n",
      "    ********\n",
      "   *********\n",
      "  **********\n"
     ]
    }
   ],
   "source": [
    "for i in range(1,11):\n",
    "    print(' '*(11-i),'*'*i)"
   ]
  },
  {
   "cell_type": "code",
   "execution_count": 77,
   "metadata": {},
   "outputs": [
    {
     "name": "stdout",
     "output_type": "stream",
     "text": [
      "  **********\n",
      "   *********\n",
      "    ********\n",
      "     *******\n",
      "      ******\n",
      "       *****\n",
      "        ****\n",
      "         ***\n",
      "          **\n",
      "           *\n"
     ]
    }
   ],
   "source": [
    "for i in range(1,11):\n",
    "    print(' '*(i),'*'*(11-i))"
   ]
  },
  {
   "cell_type": "code",
   "execution_count": 78,
   "metadata": {},
   "outputs": [
    {
     "name": "stdout",
     "output_type": "stream",
     "text": [
      "0\n",
      "1\n",
      "2\n",
      "3\n",
      "4\n",
      "5\n",
      "6\n",
      "7\n",
      "8\n",
      "9\n"
     ]
    }
   ],
   "source": [
    "c=0#initialization\n",
    "while c<10:#Condition\n",
    "    print(c)\n",
    "    c+=1#Increment/Decrement"
   ]
  },
  {
   "cell_type": "code",
   "execution_count": 1,
   "metadata": {},
   "outputs": [
    {
     "name": "stdout",
     "output_type": "stream",
     "text": [
      "1\n",
      "1\n",
      "1\n",
      "1\n",
      "1\n"
     ]
    }
   ],
   "source": [
    "l=[1,2,3,4,5]\n",
    "while 1 in l:\n",
    "    print(1)\n",
    "    l.pop()"
   ]
  },
  {
   "cell_type": "code",
   "execution_count": 2,
   "metadata": {},
   "outputs": [
    {
     "name": "stdout",
     "output_type": "stream",
     "text": [
      "100\t98\t96\t94\t92\t90\t88\t86\t84\t82\t80\t78\t76\t74\t72\t70\t68\t66\t64\t62\t60\t58\t56\t54\t52\t50\t48\t46\t44\t42\t40\t38\t36\t34\t32\t30\t28\t26\t24\t22\t20\t18\t16\t14\t12\t10\t8\t6\t4\t2\t"
     ]
    }
   ],
   "source": [
    "c=100\n",
    "while c>=1:\n",
    "    if c%2==0:\n",
    "        print(c,end='\\t')\n",
    "        c-=1\n",
    "    c-=1"
   ]
  },
  {
   "cell_type": "code",
   "execution_count": 3,
   "metadata": {},
   "outputs": [
    {
     "name": "stdout",
     "output_type": "stream",
     "text": [
      "99\t97\t95\t93\t91\t89\t87\t85\t83\t81\t79\t77\t75\t73\t71\t69\t67\t65\t63\t61\t59\t57\t55\t53\t51\t49\t47\t45\t43\t41\t39\t37\t35\t33\t31\t29\t27\t25\t23\t21\t19\t17\t15\t13\t11\t9\t7\t5\t3\t1\t"
     ]
    }
   ],
   "source": [
    "c=100\n",
    "while c>=1:\n",
    "    if c%2:\n",
    "        print(c,end='\\t')\n",
    "        c-=1\n",
    "    c-=1"
   ]
  },
  {
   "cell_type": "code",
   "execution_count": 6,
   "metadata": {},
   "outputs": [
    {
     "name": "stdout",
     "output_type": "stream",
     "text": [
      "Enter a number7\n",
      "7 x 1 = 7\n",
      "7 x 2 = 14\n",
      "7 x 3 = 21\n",
      "7 x 4 = 28\n",
      "7 x 5 = 35\n",
      "7 x 6 = 42\n",
      "7 x 7 = 49\n",
      "7 x 8 = 56\n",
      "7 x 9 = 63\n",
      "7 x 10 = 70\n",
      "Enter a number8\n",
      "8 x 1 = 8\n",
      "8 x 2 = 16\n",
      "8 x 3 = 24\n",
      "8 x 4 = 32\n",
      "8 x 5 = 40\n",
      "8 x 6 = 48\n",
      "8 x 7 = 56\n",
      "8 x 8 = 64\n",
      "8 x 9 = 72\n",
      "8 x 10 = 80\n",
      "Enter a number9\n",
      "9 x 1 = 9\n",
      "9 x 2 = 18\n",
      "9 x 3 = 27\n",
      "9 x 4 = 36\n",
      "9 x 5 = 45\n",
      "9 x 6 = 54\n",
      "9 x 7 = 63\n",
      "9 x 8 = 72\n",
      "9 x 9 = 81\n",
      "9 x 10 = 90\n"
     ]
    }
   ],
   "source": [
    "for i in range(3):\n",
    "    num=int(input('Enter a number'))\n",
    "    c=1\n",
    "    while c<=10:\n",
    "        print(f'{num} x {c} = {num*c}')\n",
    "        c+=1"
   ]
  },
  {
   "cell_type": "code",
   "execution_count": 12,
   "metadata": {},
   "outputs": [
    {
     "name": "stdout",
     "output_type": "stream",
     "text": [
      "Enter a number20\n",
      "\n",
      "n  d  di  r\n",
      "20 | 2 | 10 | 0\n",
      "____________________\n",
      "20 | 3 | 6 | 2\n",
      "____________________\n",
      "20 | 4 | 5 | 0\n",
      "____________________\n",
      "20 | 5 | 4 | 0\n",
      "____________________\n",
      "20 | 6 | 3 | 2\n",
      "____________________\n",
      "20 | 7 | 2 | 6\n",
      "____________________\n",
      "20 | 8 | 2 | 4\n",
      "____________________\n",
      "20 | 9 | 2 | 2\n",
      "____________________\n",
      "20 | 10 | 2 | 0\n",
      "____________________\n"
     ]
    }
   ],
   "source": [
    "num=int(input('Enter a number'))\n",
    "print()\n",
    "c=2\n",
    "print('n','d','di','r',sep='  ')\n",
    "while c<=num//2:\n",
    "    print(f'{num} | {c} | {num//c} | {num%c}')\n",
    "    print('_'*20)\n",
    "    c+=1"
   ]
  },
  {
   "cell_type": "code",
   "execution_count": 1,
   "metadata": {},
   "outputs": [
    {
     "name": "stdout",
     "output_type": "stream",
     "text": [
      "**********\n",
      "**********\n",
      "**********\n",
      "**********\n",
      "**********\n",
      "**********\n",
      "**********\n",
      "**********\n",
      "**********\n",
      "**********\n"
     ]
    }
   ],
   "source": [
    "r=0\n",
    "while r<10:\n",
    "    c=0\n",
    "    while c<10:\n",
    "        print('*',end='')\n",
    "        c+=1\n",
    "    r+=1\n",
    "    print()"
   ]
  },
  {
   "cell_type": "code",
   "execution_count": 2,
   "metadata": {},
   "outputs": [
    {
     "name": "stdout",
     "output_type": "stream",
     "text": [
      "*\n",
      "**\n",
      "***\n",
      "****\n",
      "*****\n",
      "******\n",
      "*******\n",
      "********\n",
      "*********\n",
      "**********\n"
     ]
    }
   ],
   "source": [
    "r=0\n",
    "while r<10:\n",
    "    c=0\n",
    "    while c<10:\n",
    "        if c<r+1:\n",
    "            print('*',end='')\n",
    "        c+=1\n",
    "    r+=1\n",
    "    print()"
   ]
  },
  {
   "cell_type": "code",
   "execution_count": 22,
   "metadata": {},
   "outputs": [
    {
     "name": "stdout",
     "output_type": "stream",
     "text": [
      "**********\n",
      "*********\n",
      "********\n",
      "*******\n",
      "******\n",
      "*****\n",
      "****\n",
      "***\n",
      "**\n",
      "*\n"
     ]
    }
   ],
   "source": [
    "r=0\n",
    "while r<10:\n",
    "    c=0\n",
    "    while c<10:\n",
    "        if c<10-r:\n",
    "            print('*',end='')\n",
    "        c+=1\n",
    "    r+=1\n",
    "    print()\n",
    "    \n"
   ]
  },
  {
   "cell_type": "code",
   "execution_count": 5,
   "metadata": {},
   "outputs": [
    {
     "name": "stdout",
     "output_type": "stream",
     "text": [
      "**********\n",
      " *********\n",
      "  ********\n",
      "   *******\n",
      "    ******\n",
      "     *****\n",
      "      ****\n",
      "       ***\n",
      "        **\n",
      "         *\n"
     ]
    }
   ],
   "source": [
    "r=0\n",
    "while r<10:\n",
    "    c=0\n",
    "    while c<10:\n",
    "        if c<r:\n",
    "            print(' ',end='')\n",
    "        else:\n",
    "            print('*',end='')\n",
    "        c+=1\n",
    "    r+=1\n",
    "    print()"
   ]
  },
  {
   "cell_type": "code",
   "execution_count": 7,
   "metadata": {},
   "outputs": [
    {
     "name": "stdout",
     "output_type": "stream",
     "text": [
      "         *\n",
      "        **\n",
      "       ***\n",
      "      ****\n",
      "     *****\n",
      "    ******\n",
      "   *******\n",
      "  ********\n",
      " *********\n",
      "**********\n"
     ]
    }
   ],
   "source": [
    "r=0\n",
    "while r<10:\n",
    "    c=0\n",
    "    while c<10:\n",
    "        if c<10-r-1:\n",
    "            print(' ',end='')\n",
    "        else:\n",
    "            print('*',end='')\n",
    "        c+=1\n",
    "    r+=1\n",
    "    print()"
   ]
  },
  {
   "cell_type": "code",
   "execution_count": 9,
   "metadata": {},
   "outputs": [
    {
     "name": "stdout",
     "output_type": "stream",
     "text": [
      "         *\n",
      "        ***\n",
      "       *****\n",
      "      *******\n",
      "     *********\n",
      "    ***********\n",
      "   *************\n",
      "  ***************\n",
      " *****************\n",
      "*******************\n"
     ]
    }
   ],
   "source": [
    "r=0\n",
    "while r<10:\n",
    "    c=0\n",
    "    while c<10:\n",
    "        if c<10-r-1:\n",
    "            print(' ',end='')\n",
    "        else:\n",
    "            print('*',end='')\n",
    "        c+=1\n",
    "    c=0\n",
    "    while c<10:\n",
    "        if c<r:\n",
    "            print('*',end='')\n",
    "        c+=1\n",
    "    r+=1\n",
    "    print()"
   ]
  },
  {
   "cell_type": "code",
   "execution_count": 11,
   "metadata": {},
   "outputs": [
    {
     "name": "stdout",
     "output_type": "stream",
     "text": [
      "*******************\n",
      " *****************\n",
      "  ***************\n",
      "   *************\n",
      "    ***********\n",
      "     *********\n",
      "      *******\n",
      "       *****\n",
      "        ***\n",
      "         *\n"
     ]
    }
   ],
   "source": [
    "r=0\n",
    "while r<10:\n",
    "    c=0\n",
    "    while c<10:\n",
    "        if c<r:\n",
    "            print(' ',end='')\n",
    "        else:\n",
    "            print('*',end='')\n",
    "        c+=1\n",
    "    c=0\n",
    "    while c<10:\n",
    "        if c<10-r-1:\n",
    "            print('*',end='')\n",
    "        c+=1\n",
    "    r+=1\n",
    "    print()"
   ]
  },
  {
   "cell_type": "code",
   "execution_count": 20,
   "metadata": {},
   "outputs": [
    {
     "name": "stdout",
     "output_type": "stream",
     "text": [
      "         *\n",
      "        ***\n",
      "       *****\n",
      "      *******\n",
      "     *********\n",
      "    ***********\n",
      "   *************\n",
      "  ***************\n",
      " *****************\n",
      "*******************\n",
      "*******************\n",
      " *****************\n",
      "  ***************\n",
      "   *************\n",
      "    ***********\n",
      "     *********\n",
      "      *******\n",
      "       *****\n",
      "        ***\n",
      "         *\n"
     ]
    }
   ],
   "source": [
    "r=0\n",
    "while r<10:\n",
    "    c=0\n",
    "    while c<10:\n",
    "        if c<10-r-1:\n",
    "            print(' ',end='')\n",
    "        else:\n",
    "            print('*',end='')\n",
    "        c+=1\n",
    "    c=0\n",
    "    while c<10:\n",
    "        if c<r:\n",
    "            print('*',end='')\n",
    "        c+=1\n",
    "    r+=1\n",
    "    print()\n",
    "r=0\n",
    "while r<10:\n",
    "    c=0\n",
    "    while c<10:\n",
    "        if c<r:\n",
    "            print(' ',end='')\n",
    "        else:\n",
    "            print('*',end='')\n",
    "        c+=1\n",
    "    c=0\n",
    "    while c<10:\n",
    "        if c<10-r-1:\n",
    "            print('*',end='')\n",
    "        c+=1\n",
    "    r+=1\n",
    "    print()"
   ]
  },
  {
   "cell_type": "code",
   "execution_count": 14,
   "metadata": {},
   "outputs": [
    {
     "name": "stdout",
     "output_type": "stream",
     "text": [
      "*******************\n",
      " *****************\n",
      "  ***************\n",
      "   *************\n",
      "    ***********\n",
      "     *********\n",
      "      *******\n",
      "       *****\n",
      "        ***\n",
      "         *\n",
      "         *\n",
      "        ***\n",
      "       *****\n",
      "      *******\n",
      "     *********\n",
      "    ***********\n",
      "   *************\n",
      "  ***************\n",
      " *****************\n",
      "*******************\n"
     ]
    }
   ],
   "source": [
    "\n",
    "r=0\n",
    "while r<10:\n",
    "    c=0\n",
    "    while c<10:\n",
    "        if c<r:\n",
    "            print(' ',end='')\n",
    "        else:\n",
    "            print('*',end='')\n",
    "        c+=1\n",
    "    c=0\n",
    "    while c<10:\n",
    "        if c<10-r-1:\n",
    "            print('*',end='')\n",
    "        c+=1\n",
    "    r+=1\n",
    "    print()\n",
    "    \n",
    "r=0\n",
    "while r<10:\n",
    "    c=0\n",
    "    while c<10:\n",
    "        if c<10-r-1:\n",
    "            print(' ',end='')\n",
    "        else:\n",
    "            print('*',end='')\n",
    "        c+=1\n",
    "    c=0\n",
    "    while c<10:\n",
    "        if c<r:\n",
    "            print('*',end='')\n",
    "        c+=1\n",
    "    r+=1\n",
    "    print()"
   ]
  },
  {
   "cell_type": "code",
   "execution_count": 30,
   "metadata": {},
   "outputs": [
    {
     "name": "stdout",
     "output_type": "stream",
     "text": [
      "                    \n",
      "*                  *\n",
      "**                **\n",
      "***              ***\n",
      "****            ****\n",
      "*****          *****\n",
      "******        ******\n",
      "*******      *******\n",
      "********    ********\n",
      "*********  *********\n",
      "*********  *********\n",
      "********    ********\n",
      "*******      *******\n",
      "******        ******\n",
      "*****          *****\n",
      "****            ****\n",
      "***              ***\n",
      "**                **\n",
      "*                  *\n",
      "                    \n"
     ]
    }
   ],
   "source": [
    "\n",
    "r=0\n",
    "while r<10:\n",
    "    c=0\n",
    "    while c<10:\n",
    "        if c<r:\n",
    "            print('*',end='')\n",
    "        else:\n",
    "            print(' ',end='')\n",
    "        c+=1\n",
    "    c=0\n",
    "    while c<10:\n",
    "        if c<10-r:\n",
    "            print(' ',end='')\n",
    "        else:\n",
    "            print('*',end='')\n",
    "        c+=1\n",
    "    r+=1\n",
    "    print()\n",
    "    \n",
    "r=0\n",
    "while r<10:\n",
    "    c=0\n",
    "    while c<10:\n",
    "        if c<10-r-1:\n",
    "            print('*',end='')\n",
    "        else:\n",
    "            print(' ',end='')\n",
    "        c+=1\n",
    "    c=0\n",
    "    while c<10:\n",
    "        if c<r+1:\n",
    "            print(' ',end='')\n",
    "        else:\n",
    "            print('*',end='')\n",
    "        c+=1\n",
    "    r+=1\n",
    "    print()"
   ]
  },
  {
   "cell_type": "code",
   "execution_count": 33,
   "metadata": {},
   "outputs": [
    {
     "name": "stdout",
     "output_type": "stream",
     "text": [
      "********************\n",
      "*********  *********\n",
      "********    ********\n",
      "*******      *******\n",
      "******        ******\n",
      "*****          *****\n",
      "****            ****\n",
      "***              ***\n",
      "**                **\n",
      "*                  *\n",
      "*                  *\n",
      "**                **\n",
      "***              ***\n",
      "****            ****\n",
      "*****          *****\n",
      "******        ******\n",
      "*******      *******\n",
      "********    ********\n",
      "*********  *********\n",
      "********************\n"
     ]
    }
   ],
   "source": [
    "r=0\n",
    "while r<10:\n",
    "    c=0\n",
    "    while c<10:\n",
    "        if c<10-r:\n",
    "            print('*',end='')\n",
    "        else:\n",
    "            print(' ',end='')\n",
    "        c+=1\n",
    "    c=0\n",
    "    while c<10:\n",
    "        if c<r:\n",
    "            print(' ',end='')\n",
    "        else:\n",
    "            print('*',end='')\n",
    "        c+=1\n",
    "    r+=1\n",
    "    print()\n",
    "r=0\n",
    "while r<10:\n",
    "    c=0\n",
    "    while c<10:\n",
    "        if c<r+1:\n",
    "            print('*',end='')\n",
    "        else:\n",
    "            print(' ',end='')\n",
    "        c+=1\n",
    "    c=0\n",
    "    while c<10:\n",
    "        if c<10-r-1:\n",
    "            print(' ',end='')\n",
    "        else:\n",
    "            print('*',end='')\n",
    "        c+=1\n",
    "    r+=1\n",
    "    print()\n",
    "    \n"
   ]
  },
  {
   "cell_type": "code",
   "execution_count": null,
   "metadata": {},
   "outputs": [],
   "source": []
  }
 ],
 "metadata": {
  "kernelspec": {
   "display_name": "Python 3",
   "language": "python",
   "name": "python3"
  },
  "language_info": {
   "codemirror_mode": {
    "name": "ipython",
    "version": 3
   },
   "file_extension": ".py",
   "mimetype": "text/x-python",
   "name": "python",
   "nbconvert_exporter": "python",
   "pygments_lexer": "ipython3",
   "version": "3.7.3"
  }
 },
 "nbformat": 4,
 "nbformat_minor": 2
}
