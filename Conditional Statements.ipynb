{
 "cells": [
  {
   "cell_type": "code",
   "execution_count": 1,
   "metadata": {},
   "outputs": [],
   "source": [
    "#Single if\n",
    "#if with else\n",
    "#if else ladder\n",
    "#nested if else\n",
    "\n"
   ]
  },
  {
   "cell_type": "code",
   "execution_count": 3,
   "metadata": {},
   "outputs": [
    {
     "name": "stdout",
     "output_type": "stream",
     "text": [
      "Enter a number6\n"
     ]
    }
   ],
   "source": [
    "x=int(input('Enter a number'))\n",
    "if x==5:\n",
    "    print('this is five')\n",
    "    "
   ]
  },
  {
   "cell_type": "raw",
   "metadata": {},
   "source": [
    "if condn:\n",
    "    stmt\n",
    "    ....\n",
    "elif condn:\n",
    "    stmt\n",
    "    .....\n",
    "elif condn:\n",
    "    stmt\n",
    "    \n",
    "else:\n",
    "    stmt"
   ]
  },
  {
   "cell_type": "raw",
   "metadata": {},
   "source": [
    "if condn:\n",
    "    stmt\n",
    "    if condn:\n",
    "        stmt\n",
    "        if condn:\n",
    "            stmt\n",
    "        else:\n",
    "            stmt\n",
    "    else:\n",
    "        stmt\n",
    "else:\n",
    "    stmt"
   ]
  },
  {
   "cell_type": "code",
   "execution_count": 5,
   "metadata": {},
   "outputs": [],
   "source": [
    "l=[1,2,3,4,5,6,7,8,9,10]"
   ]
  },
  {
   "cell_type": "code",
   "execution_count": 8,
   "metadata": {},
   "outputs": [
    {
     "name": "stdout",
     "output_type": "stream",
     "text": [
      "Enter a number5\n",
      "Number is between 1 to 10\n",
      "Enter a number45\n",
      "Number is not between 1 to 10\n",
      "Enter a number0\n",
      "Number is not between 1 to 10\n"
     ]
    }
   ],
   "source": [
    "for i in range(3):\n",
    "    x=int(input('Enter a number'))\n",
    "    if x in l:\n",
    "        print('Number is between 1 to 10')\n",
    "    else:\n",
    "        print('Number is not between 1 to 10')"
   ]
  },
  {
   "cell_type": "code",
   "execution_count": 12,
   "metadata": {},
   "outputs": [
    {
     "name": "stdout",
     "output_type": "stream",
     "text": [
      "5\n",
      "6\n",
      "6 is maximum\n",
      "9\n",
      "4\n",
      "9 is maximum\n"
     ]
    }
   ],
   "source": [
    "for i in range(2):\n",
    "    x,y=int(input()),int(input())\n",
    "    if x>y:\n",
    "        print(f'{x} is maximum')\n",
    "    else:\n",
    "        print(f'{y} is maximum')"
   ]
  },
  {
   "cell_type": "code",
   "execution_count": 14,
   "metadata": {},
   "outputs": [
    {
     "name": "stdout",
     "output_type": "stream",
     "text": [
      "Enter a number14\n",
      "Number is lie in table of 2\n",
      "Enter a number24\n",
      "number not lie in table 2\n"
     ]
    }
   ],
   "source": [
    "for i in range(2):\n",
    "    l=[i for i in range(2,21,2)]\n",
    "    x=int(input('Enter a number'))\n",
    "    if x in l:\n",
    "        print('Number is lie in table of 2')\n",
    "    else:\n",
    "        print('number not lie in table 2')"
   ]
  },
  {
   "cell_type": "code",
   "execution_count": 16,
   "metadata": {},
   "outputs": [
    {
     "name": "stdout",
     "output_type": "stream",
     "text": [
      "Enter week day number1\n",
      "Sunday\n",
      "Enter week day number3\n",
      "Tuesday\n",
      "Enter week day number5\n",
      "Thursday\n",
      "Enter week day number7\n",
      "Saturday\n",
      "Enter week day number9\n",
      "Invalid week day number\n"
     ]
    }
   ],
   "source": [
    "for i in range(5):\n",
    "    x=int(input('Enter week day number'))\n",
    "    if x==1:\n",
    "        print('Sunday')\n",
    "    elif x==2:\n",
    "        print('Monday')\n",
    "    elif x==3:\n",
    "        print('Tuesday')\n",
    "    elif x==4:\n",
    "        print('Wednesday')\n",
    "    elif x==5:\n",
    "        print('Thursday')\n",
    "    elif x==6:\n",
    "        print('Friday')\n",
    "    elif x==7:\n",
    "        print('Saturday')\n",
    "    else:\n",
    "        print('Invalid week day number')"
   ]
  },
  {
   "cell_type": "code",
   "execution_count": 17,
   "metadata": {},
   "outputs": [],
   "source": [
    "l=[i for i in range(1,100) if i%2==0]"
   ]
  },
  {
   "cell_type": "code",
   "execution_count": 19,
   "metadata": {},
   "outputs": [
    {
     "name": "stdout",
     "output_type": "stream",
     "text": [
      "2 4 6 8 10 12 14 16 18 20 22 24 26 28 30 32 34 36 38 40 42 44 46 48 50 52 54 56 58 60 62 64 66 68 70 72 74 76 78 80 82 84 86 88 90 92 94 96 98\n"
     ]
    }
   ],
   "source": [
    "print(*l)"
   ]
  },
  {
   "cell_type": "code",
   "execution_count": 21,
   "metadata": {},
   "outputs": [
    {
     "ename": "SyntaxError",
     "evalue": "invalid syntax (<ipython-input-21-cd0f689d4120>, line 1)",
     "output_type": "error",
     "traceback": [
      "\u001b[1;36m  File \u001b[1;32m\"<ipython-input-21-cd0f689d4120>\"\u001b[1;36m, line \u001b[1;32m1\u001b[0m\n\u001b[1;33m    l=[i for i in range(2,21,2) if i%4==0 else i]\u001b[0m\n\u001b[1;37m                                             ^\u001b[0m\n\u001b[1;31mSyntaxError\u001b[0m\u001b[1;31m:\u001b[0m invalid syntax\n"
     ]
    }
   ],
   "source": [
    "l=[i for i in range(2,21,2) if i%4==0 else ]"
   ]
  },
  {
   "cell_type": "code",
   "execution_count": 22,
   "metadata": {},
   "outputs": [],
   "source": [
    "l=['Even' if i%2==0 else 'Odd' for i in range(1,100)]"
   ]
  },
  {
   "cell_type": "code",
   "execution_count": 23,
   "metadata": {},
   "outputs": [
    {
     "name": "stdout",
     "output_type": "stream",
     "text": [
      "Odd Even Odd Even Odd Even Odd Even Odd Even Odd Even Odd Even Odd Even Odd Even Odd Even Odd Even Odd Even Odd Even Odd Even Odd Even Odd Even Odd Even Odd Even Odd Even Odd Even Odd Even Odd Even Odd Even Odd Even Odd Even Odd Even Odd Even Odd Even Odd Even Odd Even Odd Even Odd Even Odd Even Odd Even Odd Even Odd Even Odd Even Odd Even Odd Even Odd Even Odd Even Odd Even Odd Even Odd Even Odd Even Odd Even Odd Even Odd Even Odd Even Odd\n"
     ]
    }
   ],
   "source": [
    "print(*l)"
   ]
  },
  {
   "cell_type": "code",
   "execution_count": 24,
   "metadata": {},
   "outputs": [],
   "source": [
    "arith=['+','-','*','/','//','%','**']\n",
    "log=['and','or','not']\n",
    "rel=['<','>','<=','>=','==','!=']\n",
    "assign=['+=','-=','*=','/=','//=','%=']\n",
    "bit=['&','|','^','~','>>','<<']"
   ]
  },
  {
   "cell_type": "code",
   "execution_count": 25,
   "metadata": {},
   "outputs": [
    {
     "name": "stdout",
     "output_type": "stream",
     "text": [
      "Enter any operator symbol/\n",
      "Arithmatic operator\n",
      "Enter any operator symboland\n",
      "Logical  operator\n",
      "Enter any operator symbol==\n",
      "Relational  operator\n",
      "Enter any operator symbol+=\n",
      "Assignment operator\n",
      "Enter any operator symbol^\n",
      "Bitwise Operator\n",
      "Enter any operator symbol@\n",
      "Invalid Opearator Symbol\n"
     ]
    }
   ],
   "source": [
    "for i in range(6):\n",
    "    x=input('Enter any operator symbol')\n",
    "    if x in arith:\n",
    "        print('Arithmatic operator')\n",
    "    elif x in log:\n",
    "        print('Logical  operator')\n",
    "    elif x in rel:\n",
    "        print('Relational  operator')\n",
    "    elif x in assign:\n",
    "        print('Assignment operator')\n",
    "    elif x in bit:\n",
    "        print('Bitwise Operator')\n",
    "    else:\n",
    "        print('Invalid Opearator Symbol')"
   ]
  },
  {
   "cell_type": "code",
   "execution_count": 27,
   "metadata": {},
   "outputs": [
    {
     "name": "stdout",
     "output_type": "stream",
     "text": [
      "4\n",
      "5\n",
      "6\n",
      "6 is maximum\n",
      "9\n",
      "7\n",
      "4\n",
      "9 is maximum\n",
      "7\n",
      "9\n",
      "3\n",
      "9 is maximum\n"
     ]
    }
   ],
   "source": [
    "for i in range(3):\n",
    "    x,y,z=int(input()),int(input()),int(input())\n",
    "\n",
    "    if x>y and x>z:\n",
    "        print(f'{x} is maximum')\n",
    "    elif y>z:\n",
    "        print(f'{y} is maximum')\n",
    "    else:\n",
    "        print(f'{z} is maximum')"
   ]
  },
  {
   "cell_type": "code",
   "execution_count": 28,
   "metadata": {},
   "outputs": [],
   "source": [
    "d={1001:{'Name':'Samyak','Course':'DS'}}"
   ]
  },
  {
   "cell_type": "code",
   "execution_count": 29,
   "metadata": {},
   "outputs": [],
   "source": [
    "d={1001:{'Name':'Sachin','Bal':100000,'Pwd':'redhat@123'}}"
   ]
  },
  {
   "cell_type": "code",
   "execution_count": 32,
   "metadata": {},
   "outputs": [
    {
     "name": "stdout",
     "output_type": "stream",
     "text": [
      "Enter account number1001\n",
      "Enter  Passwordredhat@123\n",
      "Enter the amount which you want to withdrawl50000\n",
      "Your updated balance is:  50000\n",
      "Enter account number1002\n",
      "Account Not exist\n",
      "Enter account number1001\n",
      "Enter  Passwordredhiasoidjas\n",
      "Invalid Password\n",
      "Enter account number1001\n",
      "Enter  Passwordredhat@123\n",
      "Enter the amount which you want to withdrawl80000\n",
      "Insufficient Balance Amount\n"
     ]
    }
   ],
   "source": [
    "for i in range(4):\n",
    "    acc=int(input('Enter account number'))\n",
    "    if acc in d:\n",
    "        pwd=input('Enter  Password')\n",
    "        if pwd==d[acc]['Pwd']:\n",
    "            bal=int(input('Enter the amount which you want to withdrawl'))\n",
    "            if bal<d[acc]['Bal']:\n",
    "                d[acc]['Bal']-=bal\n",
    "                print('Your updated balance is: ',d[acc]['Bal'])\n",
    "            else:\n",
    "                print('Insufficient Balance Amount')\n",
    "        else:\n",
    "            print('Invalid Password')\n",
    "    else:\n",
    "        print('Account Not exist')"
   ]
  },
  {
   "cell_type": "raw",
   "metadata": {},
   "source": [
    "#Restaurent------->Only home delivery avialable\n",
    "                   1. Menu----->Non Vage Thali=_--->150\n",
    "                   2. Vage Thali----> 120\n",
    "                   3. Delivery avaiable in 10 km area only\n",
    "                   4. if distance is upto 3 km then delivery is free\n",
    "                   5.if diistance is between 4 to 6 then delivry is 3rs/km\n",
    "                   6.If distance is betweem 7 to 10 then delivery is 5rs/km"
   ]
  },
  {
   "cell_type": "code",
   "execution_count": 34,
   "metadata": {},
   "outputs": [
    {
     "name": "stdout",
     "output_type": "stream",
     "text": [
      "Enter thali quantity3\n",
      "Choose thali from menu:\n",
      "\t['N','V']N\n",
      "Enter the distance from restaurent2\n",
      "Total Amount is:  450\n",
      "Enter thali quantity4\n",
      "Choose thali from menu:\n",
      "\t['N','V']V\n",
      "Enter the distance from restaurent4\n",
      "Total Amount is:  483\n",
      "Enter thali quantity0\n",
      "Choose thali from menu:\n",
      "\t['N','V']N\n",
      "Enter the distance from restaurent4\n",
      "Invalid Arguments\n",
      "Enter thali quantity2\n",
      "Choose thali from menu:\n",
      "\t['N','V']N\n",
      "Enter the distance from restaurent0\n",
      "Invalid Arguments\n",
      "Enter thali quantity5\n",
      "Choose thali from menu:\n",
      "\t['N','V']V\n",
      "Enter the distance from restaurent9\n"
     ]
    }
   ],
   "source": [
    "for i in range(5):\n",
    "    qt=int(input('Enter thali quantity'))\n",
    "    thali=input(\"Choose thali from menu:\\n\\t['N','V']\")\n",
    "    dis=int(input('Enter the distance from restaurent'))\n",
    "\n",
    "    if qt>0 and thali in ['N','V'] and dis>0:\n",
    "        if thali == 'N':\n",
    "            price=qt*150\n",
    "        else:\n",
    "            price=qt*120\n",
    "\n",
    "        if dis<=3:\n",
    "            final_price=price\n",
    "            print('Total Amount is: ',final_price)\n",
    "        elif dis<=6:\n",
    "            final_price=price+(dis-3)*3\n",
    "            print('Total Amount is: ',final_price)\n",
    "        elif dis<=10:\n",
    "            final_price=price+(dis-6)*5+3*3\n",
    "            print('Total Amount is: ',final_price)\n",
    "        else:\n",
    "            print('Delivery is not avialable at ur location')\n",
    "    else:\n",
    "        print('Invalid Arguments')"
   ]
  },
  {
   "cell_type": "code",
   "execution_count": 36,
   "metadata": {
    "scrolled": true
   },
   "outputs": [
    {
     "name": "stdout",
     "output_type": "stream",
     "text": [
      "Enter thali quantity5\n",
      "Choose thali from menu:\n",
      "\t['N','V']V\n",
      "Enter the distance from restaurent9\n",
      "Total Amount is:  624\n"
     ]
    }
   ],
   "source": [
    "    qt=int(input('Enter thali quantity'))\n",
    "    thali=input(\"Choose thali from menu:\\n\\t['N','V']\")\n",
    "    dis=int(input('Enter the distance from restaurent'))\n",
    "\n",
    "    if qt>0 and thali in ['N','V'] and dis>0:\n",
    "        if thali == 'N':\n",
    "            price=qt*150\n",
    "        else:\n",
    "            price=qt*120\n",
    "\n",
    "        if dis<=3:\n",
    "            final_price=price\n",
    "            print('Total Amount is: ',final_price)\n",
    "        elif dis<=6:\n",
    "            final_price=price+(dis-3)*3\n",
    "            print('Total Amount is: ',final_price)\n",
    "        elif dis<=10:\n",
    "            final_price=price+(dis-6)*5+3*3\n",
    "            print('Total Amount is: ',final_price)\n",
    "        else:\n",
    "            print('Delivery is not avialable at ur location')\n",
    "    else:\n",
    "        print('Invalid Arguments')"
   ]
  },
  {
   "cell_type": "code",
   "execution_count": 37,
   "metadata": {},
   "outputs": [
    {
     "data": {
      "text/plain": [
       "624"
      ]
     },
     "execution_count": 37,
     "metadata": {},
     "output_type": "execute_result"
    }
   ],
   "source": [
    "120*5+0+9+3*5"
   ]
  },
  {
   "cell_type": "code",
   "execution_count": 39,
   "metadata": {},
   "outputs": [
    {
     "name": "stdout",
     "output_type": "stream",
     "text": [
      "3\n"
     ]
    }
   ],
   "source": [
    "l=[1,2,0,2,3]\n",
    "if l.pop(-3):\n",
    "    print(l.append(5))\n",
    "else:\n",
    "    print(l.pop())"
   ]
  },
  {
   "cell_type": "code",
   "execution_count": 40,
   "metadata": {},
   "outputs": [
    {
     "name": "stdout",
     "output_type": "stream",
     "text": [
      "2\n"
     ]
    }
   ],
   "source": [
    "x='hello world'.endswith('w',0,7)\n",
    "if x:\n",
    "    print(x+x)\n",
    "else:\n",
    "    print(x+x)"
   ]
  },
  {
   "cell_type": "code",
   "execution_count": 41,
   "metadata": {},
   "outputs": [
    {
     "data": {
      "text/plain": [
       "True"
      ]
     },
     "execution_count": 41,
     "metadata": {},
     "output_type": "execute_result"
    }
   ],
   "source": [
    "x"
   ]
  },
  {
   "cell_type": "code",
   "execution_count": 42,
   "metadata": {},
   "outputs": [
    {
     "ename": "KeyError",
     "evalue": "'B'",
     "output_type": "error",
     "traceback": [
      "\u001b[1;31m---------------------------------------------------------------------------\u001b[0m",
      "\u001b[1;31mKeyError\u001b[0m                                  Traceback (most recent call last)",
      "\u001b[1;32m<ipython-input-42-0a8ab37cd617>\u001b[0m in \u001b[0;36m<module>\u001b[1;34m\u001b[0m\n\u001b[0;32m      3\u001b[0m     \u001b[0mprint\u001b[0m\u001b[1;33m(\u001b[0m\u001b[0md\u001b[0m\u001b[1;33m[\u001b[0m\u001b[1;34m'A'\u001b[0m\u001b[1;33m]\u001b[0m\u001b[1;33m)\u001b[0m\u001b[1;33m\u001b[0m\u001b[1;33m\u001b[0m\u001b[0m\n\u001b[0;32m      4\u001b[0m \u001b[1;32melse\u001b[0m\u001b[1;33m:\u001b[0m\u001b[1;33m\u001b[0m\u001b[1;33m\u001b[0m\u001b[0m\n\u001b[1;32m----> 5\u001b[1;33m     \u001b[0mprint\u001b[0m\u001b[1;33m(\u001b[0m\u001b[0md\u001b[0m\u001b[1;33m[\u001b[0m\u001b[1;34m'B'\u001b[0m\u001b[1;33m]\u001b[0m\u001b[1;33m)\u001b[0m\u001b[1;33m\u001b[0m\u001b[1;33m\u001b[0m\u001b[0m\n\u001b[0m",
      "\u001b[1;31mKeyError\u001b[0m: 'B'"
     ]
    }
   ],
   "source": [
    "d={'A':'B','C':'D'}\n",
    "if d.get('D',''):\n",
    "    print(d['A'])\n",
    "else:\n",
    "    print(d['B'])"
   ]
  },
  {
   "cell_type": "code",
   "execution_count": null,
   "metadata": {},
   "outputs": [],
   "source": []
  }
 ],
 "metadata": {
  "kernelspec": {
   "display_name": "Python 3",
   "language": "python",
   "name": "python3"
  },
  "language_info": {
   "codemirror_mode": {
    "name": "ipython",
    "version": 3
   },
   "file_extension": ".py",
   "mimetype": "text/x-python",
   "name": "python",
   "nbconvert_exporter": "python",
   "pygments_lexer": "ipython3",
   "version": "3.7.3"
  }
 },
 "nbformat": 4,
 "nbformat_minor": 2
}
